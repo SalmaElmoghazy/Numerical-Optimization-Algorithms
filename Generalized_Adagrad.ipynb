{
 "cells": [
  {
   "cell_type": "markdown",
   "id": "9e6a6149",
   "metadata": {},
   "source": [
    "# Multi-variable Adgrad with mini-batch"
   ]
  },
  {
   "cell_type": "markdown",
   "id": "1193bff9",
   "metadata": {},
   "source": [
    "### Import packages"
   ]
  },
  {
   "cell_type": "code",
   "execution_count": 1,
   "id": "5f0731ee",
   "metadata": {},
   "outputs": [],
   "source": [
    "import numpy as np\n",
    "import matplotlib.pyplot as plt\n",
    "import pandas as pd\n",
    "\n",
    "from sklearn.model_selection import train_test_split\n",
    "from sklearn.preprocessing import MinMaxScaler\n",
    "from sklearn.metrics import r2_score\n",
    "%matplotlib inline"
   ]
  },
  {
   "cell_type": "markdown",
   "id": "602bd966",
   "metadata": {},
   "source": [
    "### Adagrad class"
   ]
  },
  {
   "cell_type": "code",
   "execution_count": 2,
   "id": "766afe83",
   "metadata": {},
   "outputs": [],
   "source": [
    "class Adagrad_mini_batch:\n",
    "    def __init__(self, lr=0.0001, max_iter=1000, batch_size=1, shuffle=True):\n",
    "        self.lr = lr\n",
    "        self.batch_size = batch_size\n",
    "        self.max_iter = max_iter\n",
    "        self.shuffle = shuffle\n",
    "    \n",
    "    # Hypothesis function\n",
    "    def predict(self, theta, x):\n",
    "        return x @ theta\n",
    "    \n",
    "    # Loss function\n",
    "    def J(self, prediction, y):\n",
    "        n = self.batch_size\n",
    "        error_vec = prediction - y\n",
    "        loss = (0.5 / n ) * (error_vec.T @ error_vec)[0][0]\n",
    "\n",
    "        return loss, error_vec\n",
    "    \n",
    "    @staticmethod\n",
    "    # To add 1's column for X0\n",
    "    def reshape(x):\n",
    "        x = np.block([np.ones((x.shape[0], 1)), x])\n",
    "        return x\n",
    "    \n",
    "    @staticmethod\n",
    "    # Mini_batches generator\n",
    "    def chunks(x, y, size, shuffle):\n",
    "        if shuffle:\n",
    "            data = np.block([x, y])\n",
    "            np.random.shuffle(data)\n",
    "            x = data[:, : -1]\n",
    "            y = data[:, [-1]]\n",
    "        \n",
    "        for i in range(0, x.shape[0], size):\n",
    "            yield x[i:i + size], y[i:i + size]\n",
    "        \n",
    "    \n",
    "    # Adam algorithm\n",
    "    def fit(self, x, y):\n",
    "        \n",
    "        x = Adagrad_mini_batch.reshape(x)\n",
    "        \n",
    "        # Number of features (X)\n",
    "        n = x.shape[1]\n",
    "        \n",
    "        # Model parameters\n",
    "        theta = np.zeros((n, 1))\n",
    "        \n",
    "        # Adaptive learning rate terms\n",
    "        v = np.zeros((n, 1))\n",
    "        \n",
    "        # Lists for holding loss and model parameters\n",
    "        MSE = []\n",
    "        th = []\n",
    "        \n",
    "        # No. of iterations per epoch\n",
    "        n_iter_per_epoch = int(x.shape[0] / self.batch_size)\n",
    "\n",
    "        for epoch in range(self.max_iter):\n",
    "            \n",
    "            # generator\n",
    "            batches = Adagrad_mini_batch.chunks(x, y, self.batch_size, self.shuffle)\n",
    "            \n",
    "            for i in range(n_iter_per_epoch):\n",
    "                 \n",
    "                current_batch = next(batches)\n",
    "                batch_x = current_batch[0]\n",
    "                batch_y = current_batch[1]\n",
    "                \n",
    "                # Next batch is empty\n",
    "                if len(batch_x) == 0:\n",
    "                    break\n",
    "\n",
    "                # Predicted value of output\n",
    "                y_pred = self.predict(theta, batch_x)\n",
    "                th.append(theta)\n",
    "                \n",
    "                # Calculate loss\n",
    "                loss, e = self.J(y_pred, batch_y)\n",
    "                MSE.append(loss)\n",
    "\n",
    "                # Gradient of loss function with respect to theta\n",
    "                grad_theta = (batch_x.T @ e) * (1 / self.batch_size)     \n",
    "                \n",
    "                # Updates\n",
    "                v = v + grad_theta ** 2\n",
    "                \n",
    "                # New theta\n",
    "                theta = theta - self.lr * grad_theta / (np.sqrt(v) + 10e-8)  \n",
    "\n",
    "            # Stopping criteria\n",
    "            # Gradient approaches zero\n",
    "            if np.linalg.norm(grad_theta) < 0.001:\n",
    "                break\n",
    "\n",
    "            # Change in loss approaches zero\n",
    "            elif epoch != 0:\n",
    "                indx_of_prev_epoch_mse = (epoch-1) * n_iter_per_epoch\n",
    "                if abs(loss - MSE[indx_of_prev_epoch_mse]) < 0.001:\n",
    "                    break\n",
    "\n",
    "            \n",
    "        return th, MSE"
   ]
  },
  {
   "cell_type": "markdown",
   "id": "60457fe3",
   "metadata": {},
   "source": [
    "### Plotting functions"
   ]
  },
  {
   "cell_type": "code",
   "execution_count": 3,
   "id": "12f4917b",
   "metadata": {},
   "outputs": [],
   "source": [
    "def reg_line(x, y, y_pred):   \n",
    "    plt.scatter(x, y, label='Actual') \n",
    "    plt.title('Regression line')\n",
    "    plt.plot(x, y_pred, color='red', label='Predicted')  # regression line\n",
    "    plt.xlabel(\"Input (x)\")\n",
    "    plt.ylabel(\"Output (y)\")\n",
    "    plt.grid()\n",
    "    plt.legend()\n",
    "    plt.show()"
   ]
  },
  {
   "cell_type": "code",
   "execution_count": 4,
   "id": "716dadba",
   "metadata": {},
   "outputs": [],
   "source": [
    "def lossVSepoch(loss):\n",
    "    print(\"MSE = \", loss[-1])\n",
    "    plt.plot(np.array(loss), '--bo', mfc='r', mec='none', markersize=5)\n",
    "    plt.title('loss')\n",
    "    plt.xlabel(\"No. of iterations (i)\")\n",
    "    plt.ylabel(\"Loss (J)\")\n",
    "    plt.grid()\n",
    "    plt.show()"
   ]
  },
  {
   "cell_type": "code",
   "execution_count": 5,
   "id": "d469af26",
   "metadata": {},
   "outputs": [],
   "source": [
    "def thetaVSloss(th, loss, i):\n",
    "    plt.plot(th, loss, '--bo', mfc='red', mec='none', markersize=5)\n",
    "    plt.title('Loss vs theta {}'.format(i))\n",
    "    plt.xlabel('theta {}'.format(i))\n",
    "    plt.ylabel('J(theta {})'.format(i))\n",
    "    plt.grid()\n",
    "    plt.show()"
   ]
  },
  {
   "cell_type": "markdown",
   "id": "d0cc0b0d",
   "metadata": {},
   "source": [
    "## Multivariable trial"
   ]
  },
  {
   "cell_type": "markdown",
   "id": "251b3622",
   "metadata": {},
   "source": [
    "### Loading data"
   ]
  },
  {
   "cell_type": "code",
   "execution_count": 6,
   "id": "d035e5db",
   "metadata": {},
   "outputs": [
    {
     "name": "stdout",
     "output_type": "stream",
     "text": [
      "Shape of data:  (25, 4)\n"
     ]
    },
    {
     "data": {
      "text/plain": [
       "array([[ 73,  80,  75, 152],\n",
       "       [ 93,  88,  93, 185],\n",
       "       [ 89,  91,  90, 180],\n",
       "       [ 96,  98, 100, 196],\n",
       "       [ 73,  66,  70, 142],\n",
       "       [ 53,  46,  55, 101],\n",
       "       [ 69,  74,  77, 149],\n",
       "       [ 47,  56,  60, 115],\n",
       "       [ 87,  79,  90, 175],\n",
       "       [ 79,  70,  88, 164],\n",
       "       [ 69,  70,  73, 141],\n",
       "       [ 70,  65,  74, 141],\n",
       "       [ 93,  95,  91, 184],\n",
       "       [ 79,  80,  73, 152],\n",
       "       [ 70,  73,  78, 148],\n",
       "       [ 93,  89,  96, 192],\n",
       "       [ 78,  75,  68, 147],\n",
       "       [ 81,  90,  93, 183],\n",
       "       [ 88,  92,  86, 177],\n",
       "       [ 78,  83,  77, 159],\n",
       "       [ 82,  86,  90, 177],\n",
       "       [ 86,  82,  89, 175],\n",
       "       [ 78,  83,  85, 175],\n",
       "       [ 76,  83,  71, 149],\n",
       "       [ 96,  93,  95, 192]], dtype=int64)"
      ]
     },
     "execution_count": 6,
     "metadata": {},
     "output_type": "execute_result"
    }
   ],
   "source": [
    "# Dataframe from csv file\n",
    "df = pd.read_csv('MultipleLR.csv', header=None)\n",
    "data = df.to_numpy()\n",
    "\n",
    "print(\"Shape of data: \", data.shape)\n",
    "data"
   ]
  },
  {
   "cell_type": "code",
   "execution_count": 7,
   "id": "3091ffb6",
   "metadata": {},
   "outputs": [
    {
     "data": {
      "text/plain": [
       "array([[ 73,  80,  75],\n",
       "       [ 93,  88,  93],\n",
       "       [ 89,  91,  90],\n",
       "       [ 96,  98, 100],\n",
       "       [ 73,  66,  70],\n",
       "       [ 53,  46,  55],\n",
       "       [ 69,  74,  77],\n",
       "       [ 47,  56,  60],\n",
       "       [ 87,  79,  90],\n",
       "       [ 79,  70,  88],\n",
       "       [ 69,  70,  73],\n",
       "       [ 70,  65,  74],\n",
       "       [ 93,  95,  91],\n",
       "       [ 79,  80,  73],\n",
       "       [ 70,  73,  78],\n",
       "       [ 93,  89,  96],\n",
       "       [ 78,  75,  68],\n",
       "       [ 81,  90,  93],\n",
       "       [ 88,  92,  86],\n",
       "       [ 78,  83,  77],\n",
       "       [ 82,  86,  90],\n",
       "       [ 86,  82,  89],\n",
       "       [ 78,  83,  85],\n",
       "       [ 76,  83,  71],\n",
       "       [ 96,  93,  95]], dtype=int64)"
      ]
     },
     "execution_count": 7,
     "metadata": {},
     "output_type": "execute_result"
    }
   ],
   "source": [
    "y = data[:, [-1]]\n",
    "x = data[:, 0:3]\n",
    "x"
   ]
  },
  {
   "cell_type": "markdown",
   "id": "f45f3777",
   "metadata": {},
   "source": [
    "#### Train/test split"
   ]
  },
  {
   "cell_type": "code",
   "execution_count": 8,
   "id": "7e9c6078",
   "metadata": {},
   "outputs": [],
   "source": [
    "X_train, X_test, y_train, y_test = train_test_split(x, y, test_size=0.2, random_state=0)"
   ]
  },
  {
   "cell_type": "markdown",
   "id": "3e7b6e13",
   "metadata": {},
   "source": [
    "### Model initialization"
   ]
  },
  {
   "cell_type": "code",
   "execution_count": 9,
   "id": "26e3996c",
   "metadata": {},
   "outputs": [],
   "source": [
    "# Batch : batch size = 20\n",
    "# Stochastic : batch size = 1\n",
    "model = Adagrad_mini_batch(lr=0.1, max_iter=100, batch_size=20, shuffle=True)"
   ]
  },
  {
   "cell_type": "markdown",
   "id": "1b37f41f",
   "metadata": {},
   "source": [
    "### Model training"
   ]
  },
  {
   "cell_type": "code",
   "execution_count": 10,
   "id": "d3dc6b07",
   "metadata": {},
   "outputs": [],
   "source": [
    "theta, loss = model.fit(X_train, y_train)"
   ]
  },
  {
   "cell_type": "code",
   "execution_count": 11,
   "id": "ae558873",
   "metadata": {},
   "outputs": [
    {
     "data": {
      "text/plain": [
       "6.853222724061209"
      ]
     },
     "execution_count": 11,
     "metadata": {},
     "output_type": "execute_result"
    }
   ],
   "source": [
    "# Final loss\n",
    "loss[-1]"
   ]
  },
  {
   "cell_type": "code",
   "execution_count": 12,
   "id": "e190aa92",
   "metadata": {},
   "outputs": [
    {
     "data": {
      "text/plain": [
       "array([[0.67417258],\n",
       "       [0.67240508],\n",
       "       [0.67192088],\n",
       "       [0.67587786]])"
      ]
     },
     "execution_count": 12,
     "metadata": {},
     "output_type": "execute_result"
    }
   ],
   "source": [
    "# Final model parameters\n",
    "theta[-1]"
   ]
  },
  {
   "cell_type": "markdown",
   "id": "6cf46b93",
   "metadata": {},
   "source": [
    "#### Training graphs"
   ]
  },
  {
   "cell_type": "code",
   "execution_count": 13,
   "id": "68bd2912",
   "metadata": {},
   "outputs": [
    {
     "name": "stdout",
     "output_type": "stream",
     "text": [
      "MSE =  6.853222724061209\n"
     ]
    },
    {
     "data": {
      "image/png": "[encoded data removed]",
      "text/plain": [
       "<Figure size 432x288 with 1 Axes>"
      ]
     },
     "metadata": {
      "needs_background": "light"
     },
     "output_type": "display_data"
    },
    {
     "data": {
      "image/png": "[encoded data removed]",
      "text/plain": [
       "<Figure size 432x288 with 1 Axes>"
      ]
     },
     "metadata": {
      "needs_background": "light"
     },
     "output_type": "display_data"
    },
    {
     "data": {
      "image/png": "[encoded data removed]",
      "text/plain": [
       "<Figure size 432x288 with 1 Axes>"
      ]
     },
     "metadata": {
      "needs_background": "light"
     },
     "output_type": "display_data"
    },
    {
     "data": {
      "image/png": "[encoded data removed]",
      "text/plain": [
       "<Figure size 432x288 with 1 Axes>"
      ]
     },
     "metadata": {
      "needs_background": "light"
     },
     "output_type": "display_data"
    },
    {
     "data": {
      "image/png": "[encoded data removed]",
      "text/plain": [
       "<Figure size 432x288 with 1 Axes>"
      ]
     },
     "metadata": {
      "needs_background": "light"
     },
     "output_type": "display_data"
    }
   ],
   "source": [
    "lossVSepoch(loss)\n",
    "\n",
    "thetaVSloss(np.array(theta)[:, [0], [0]], loss, 0)\n",
    "thetaVSloss(np.array(theta)[:, [1], [0]], loss, 1)\n",
    "thetaVSloss(np.array(theta)[:, [2], [0]], loss, 2)\n",
    "thetaVSloss(np.array(theta)[:, [3], [0]], loss, 3)"
   ]
  },
  {
   "cell_type": "markdown",
   "id": "934bdc5d",
   "metadata": {},
   "source": [
    "#### Training evaluation"
   ]
  },
  {
   "cell_type": "code",
   "execution_count": 14,
   "id": "28ae6ac0",
   "metadata": {},
   "outputs": [
    {
     "name": "stdout",
     "output_type": "stream",
     "text": [
      "The r2_score for training is 0.9688862887149555\n"
     ]
    }
   ],
   "source": [
    "y_pred = model.predict(theta[-1], Adagrad_mini_batch.reshape(X_train))\n",
    "print(f'The r2_score for training is {r2_score(y_train, y_pred)}')"
   ]
  },
  {
   "cell_type": "markdown",
   "id": "4d0f2576",
   "metadata": {},
   "source": [
    "### Predictions"
   ]
  },
  {
   "cell_type": "code",
   "execution_count": 15,
   "id": "e9c4bf98",
   "metadata": {},
   "outputs": [
    {
     "data": {
      "text/plain": [
       "array([[104.39328446],\n",
       "       [182.49203189],\n",
       "       [160.93379681],\n",
       "       [149.47552904],\n",
       "       [141.43234683]])"
      ]
     },
     "execution_count": 15,
     "metadata": {},
     "output_type": "execute_result"
    }
   ],
   "source": [
    "y_pred = model.predict(theta[-1], Adagrad_mini_batch.reshape(X_test))\n",
    "y_pred"
   ]
  },
  {
   "cell_type": "code",
   "execution_count": 16,
   "id": "f1ca12d1",
   "metadata": {},
   "outputs": [
    {
     "data": {
      "text/plain": [
       "array([[101],\n",
       "       [180],\n",
       "       [159],\n",
       "       [147],\n",
       "       [141]], dtype=int64)"
      ]
     },
     "execution_count": 16,
     "metadata": {},
     "output_type": "execute_result"
    }
   ],
   "source": [
    "y_test"
   ]
  },
  {
   "cell_type": "markdown",
   "id": "a4e05647",
   "metadata": {},
   "source": [
    "#### Test evaluation"
   ]
  },
  {
   "cell_type": "code",
   "execution_count": 17,
   "id": "13d9a6d4",
   "metadata": {},
   "outputs": [
    {
     "name": "stdout",
     "output_type": "stream",
     "text": [
      "The r2_score for test is 0.9917695720696947\n"
     ]
    }
   ],
   "source": [
    "# Performence metrics\n",
    "print(f'The r2_score for test is {r2_score(y_test, y_pred)}')"
   ]
  },
  {
   "cell_type": "markdown",
   "id": "146b211a",
   "metadata": {},
   "source": [
    "## Single variable trial"
   ]
  },
  {
   "cell_type": "markdown",
   "id": "1afa23af",
   "metadata": {},
   "source": [
    "### Loading data"
   ]
  },
  {
   "cell_type": "code",
   "execution_count": 18,
   "id": "f09ba72a",
   "metadata": {},
   "outputs": [
    {
     "name": "stdout",
     "output_type": "stream",
     "text": [
      "Shape of data:  (20, 2)\n"
     ]
    },
    {
     "data": {
      "text/plain": [
       "array([[ -0.33532,   6.66854],\n",
       "       [  0.0216 ,   3.86398],\n",
       "       [ -1.19438,   5.16161],\n",
       "       [ -0.65046,   8.43823],\n",
       "       [ -0.28001,   5.57201],\n",
       "       [  1.93258, -11.1327 ],\n",
       "       [  1.2262 ,  -5.31226],\n",
       "       [  0.74727,  -4.63725],\n",
       "       [  3.32853,   3.8065 ],\n",
       "       [  2.87457,  -6.06084],\n",
       "       [ -1.48662,   7.22328],\n",
       "       [  0.37629,   2.38887],\n",
       "       [  1.43918,  -7.13415],\n",
       "       [  0.24183,   2.00412],\n",
       "       [ -2.7914 ,   4.29794],\n",
       "       [  1.08176,  -5.86553],\n",
       "       [  2.81555,  -5.20711],\n",
       "       [  0.54924,  -3.52863],\n",
       "       [  2.36449, -10.16202],\n",
       "       [ -1.01925,   5.31123]])"
      ]
     },
     "execution_count": 18,
     "metadata": {},
     "output_type": "execute_result"
    }
   ],
   "source": [
    "# Dataframe from csv file\n",
    "df = pd.read_csv('data.csv')\n",
    "data = df.to_numpy()\n",
    "\n",
    "print(\"Shape of data: \", data.shape)\n",
    "data"
   ]
  },
  {
   "cell_type": "code",
   "execution_count": 19,
   "id": "05af5137",
   "metadata": {},
   "outputs": [
    {
     "data": {
      "text/plain": [
       "array([[-0.33532],\n",
       "       [ 0.0216 ],\n",
       "       [-1.19438],\n",
       "       [-0.65046],\n",
       "       [-0.28001],\n",
       "       [ 1.93258],\n",
       "       [ 1.2262 ],\n",
       "       [ 0.74727],\n",
       "       [ 3.32853],\n",
       "       [ 2.87457],\n",
       "       [-1.48662],\n",
       "       [ 0.37629],\n",
       "       [ 1.43918],\n",
       "       [ 0.24183],\n",
       "       [-2.7914 ],\n",
       "       [ 1.08176],\n",
       "       [ 2.81555],\n",
       "       [ 0.54924],\n",
       "       [ 2.36449],\n",
       "       [-1.01925]])"
      ]
     },
     "execution_count": 19,
     "metadata": {},
     "output_type": "execute_result"
    }
   ],
   "source": [
    "y = data[:, [-1]]\n",
    "x = data[:, [0]]\n",
    "x"
   ]
  },
  {
   "cell_type": "markdown",
   "id": "a59490fb",
   "metadata": {},
   "source": [
    "#### Train/test split"
   ]
  },
  {
   "cell_type": "code",
   "execution_count": 20,
   "id": "72e24e86",
   "metadata": {},
   "outputs": [],
   "source": [
    "X_train, X_test, y_train, y_test = train_test_split(x, y, test_size=0.2, random_state=0)"
   ]
  },
  {
   "cell_type": "markdown",
   "id": "d35072ae",
   "metadata": {},
   "source": [
    "### Model initialization"
   ]
  },
  {
   "cell_type": "code",
   "execution_count": 21,
   "id": "607f1b06",
   "metadata": {},
   "outputs": [],
   "source": [
    "# Batch : batch size = 16\n",
    "# Stochastic : batch size = 1\n",
    "model = Adagrad_mini_batch(lr=0.1, max_iter=100, batch_size=16, shuffle=True)"
   ]
  },
  {
   "cell_type": "markdown",
   "id": "327bf595",
   "metadata": {},
   "source": [
    "### Model training"
   ]
  },
  {
   "cell_type": "code",
   "execution_count": 22,
   "id": "f552b749",
   "metadata": {},
   "outputs": [],
   "source": [
    "theta, loss = model.fit(X_train, y_train)"
   ]
  },
  {
   "cell_type": "code",
   "execution_count": 23,
   "id": "e52808a6",
   "metadata": {},
   "outputs": [
    {
     "data": {
      "text/plain": [
       "9.446331552272751"
      ]
     },
     "execution_count": 23,
     "metadata": {},
     "output_type": "execute_result"
    }
   ],
   "source": [
    "# Final loss\n",
    "loss[-1]"
   ]
  },
  {
   "cell_type": "code",
   "execution_count": 24,
   "id": "c0d585be",
   "metadata": {},
   "outputs": [
    {
     "data": {
      "text/plain": [
       "array([[ 0.19412328],\n",
       "       [-1.61799144]])"
      ]
     },
     "execution_count": 24,
     "metadata": {},
     "output_type": "execute_result"
    }
   ],
   "source": [
    "# Final model parameters\n",
    "theta[-1]"
   ]
  },
  {
   "cell_type": "markdown",
   "id": "ef9ec1ee",
   "metadata": {},
   "source": [
    "#### Training graphs"
   ]
  },
  {
   "cell_type": "code",
   "execution_count": 25,
   "id": "961b5ed1",
   "metadata": {},
   "outputs": [
    {
     "name": "stdout",
     "output_type": "stream",
     "text": [
      "MSE =  9.446331552272751\n"
     ]
    },
    {
     "data": {
      "image/png": "[encoded data removed]",
      "text/plain": [
       "<Figure size 432x288 with 1 Axes>"
      ]
     },
     "metadata": {
      "needs_background": "light"
     },
     "output_type": "display_data"
    },
    {
     "data": {
      "image/png": "[encoded data removed]",
      "text/plain": [
       "<Figure size 432x288 with 1 Axes>"
      ]
     },
     "metadata": {
      "needs_background": "light"
     },
     "output_type": "display_data"
    },
    {
     "data": {
      "image/png": "[encoded data removed]",
      "text/plain": [
       "<Figure size 432x288 with 1 Axes>"
      ]
     },
     "metadata": {
      "needs_background": "light"
     },
     "output_type": "display_data"
    }
   ],
   "source": [
    "lossVSepoch(loss)\n",
    "\n",
    "thetaVSloss(np.array(theta)[:, [0], [0]], loss, 0)\n",
    "thetaVSloss(np.array(theta)[:, [1], [0]], loss, 1)"
   ]
  },
  {
   "cell_type": "code",
   "execution_count": 26,
   "id": "5daf8c88",
   "metadata": {},
   "outputs": [],
   "source": [
    "y_pred = model.predict(theta[-1], Adagrad_mini_batch.reshape(X_train))"
   ]
  },
  {
   "cell_type": "code",
   "execution_count": 27,
   "id": "49d1e6ae",
   "metadata": {},
   "outputs": [
    {
     "data": {
      "image/png": "[encoded data removed]",
      "text/plain": [
       "<Figure size 432x288 with 1 Axes>"
      ]
     },
     "metadata": {
      "needs_background": "light"
     },
     "output_type": "display_data"
    }
   ],
   "source": [
    "reg_line(X_train, y_train, y_pred)"
   ]
  },
  {
   "cell_type": "markdown",
   "id": "9ac1c58a",
   "metadata": {},
   "source": [
    "#### Training evaluation"
   ]
  },
  {
   "cell_type": "code",
   "execution_count": 28,
   "id": "5551f6ee",
   "metadata": {},
   "outputs": [
    {
     "name": "stdout",
     "output_type": "stream",
     "text": [
      "The r2_score for training is 0.48400335996311605\n"
     ]
    }
   ],
   "source": [
    "print(f'The r2_score for training is {r2_score(y_train, y_pred)}')"
   ]
  },
  {
   "cell_type": "markdown",
   "id": "c6421a7a",
   "metadata": {},
   "source": [
    "### Predictions"
   ]
  },
  {
   "cell_type": "code",
   "execution_count": 29,
   "id": "a85240a5",
   "metadata": {},
   "outputs": [
    {
     "data": {
      "text/plain": [
       "array([[-3.6316013 ],\n",
       "       [ 0.15917466],\n",
       "       [ 1.84326106],\n",
       "       [-5.19140977]])"
      ]
     },
     "execution_count": 29,
     "metadata": {},
     "output_type": "execute_result"
    }
   ],
   "source": [
    "y_pred = model.predict(theta[-1], Adagrad_mini_batch.reshape(X_test))\n",
    "y_pred"
   ]
  },
  {
   "cell_type": "markdown",
   "id": "b874d41c",
   "metadata": {},
   "source": [
    "#### Test evaluation"
   ]
  },
  {
   "cell_type": "code",
   "execution_count": 30,
   "id": "2496cbf5",
   "metadata": {},
   "outputs": [
    {
     "name": "stdout",
     "output_type": "stream",
     "text": [
      "The r2_score for test is 0.0600775256638485\n"
     ]
    }
   ],
   "source": [
    "print(f'The r2_score for test is {r2_score(y_test, y_pred)}')"
   ]
  },
  {
   "cell_type": "code",
   "execution_count": null,
   "id": "549e378a",
   "metadata": {},
   "outputs": [],
   "source": []
  },
  {
   "cell_type": "code",
   "execution_count": null,
   "id": "ea3d2097",
   "metadata": {},
   "outputs": [],
   "source": []
  }
 ],
 "metadata": {
  "kernelspec": {
   "display_name": "Python 3 (ipykernel)",
   "language": "python",
   "name": "python3"
  },
  "language_info": {
   "codemirror_mode": {
    "name": "ipython",
    "version": 3
   },
   "file_extension": ".py",
   "mimetype": "text/x-python",
   "name": "python",
   "nbconvert_exporter": "python",
   "pygments_lexer": "ipython3",
   "version": "3.9.7"
  }
 },
 "nbformat": 4,
 "nbformat_minor": 5
}
